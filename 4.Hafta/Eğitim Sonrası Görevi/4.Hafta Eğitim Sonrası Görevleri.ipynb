{
 "cells": [
  {
   "cell_type": "markdown",
   "metadata": {},
   "source": [
    "# Problem 1\n",
    "`ogrenciler` adında bir sözlük oluşturunuz. Kullanıcıdan döngü yardımıyla 3 öğrenci için veri girmesini isteyerek öğrencilerin sırasıyla okul numarası, isim, soy isim, telefon numarası ve doğum tarihi bilgilerini alınız. Aldığınız öğrenci bilgilerini yine aynı döngü yardımıyla `ogrenciler` adındaki sözlükte saklayınız. Daha sonra öğrenci bilgilerinin bulunduğu sözlük yapısını ekrana bastırınız.\n",
    "\n"
   ]
  },
  {
   "cell_type": "code",
   "execution_count": 22,
   "metadata": {},
   "outputs": [
    {
     "name": "stdout",
     "output_type": "stream",
     "text": [
      "-------------------------------\n",
      "-------------------------------\n",
      "-------------------------------\n",
      "{1: {'No': '210411013', 'İsim': 'Semanur', 'Soy isim': 'Coşar', 'Telefon': '5301223546', 'Dogum Tarihi': '12.07.2002'}, 2: {'No': '214678934', 'İsim': 'Ayşenur', 'Soy isim': 'Soy', 'Telefon': '5325064789', 'Dogum Tarihi': '27.01.2002'}, 3: {'No': '21908657', 'İsim': 'Bedirhan', 'Soy isim': 'Mert', 'Telefon': '5456238976', 'Dogum Tarihi': '04.08.2002'}}\n"
     ]
    }
   ],
   "source": [
    "ogrenciler = {}\n",
    "for i in range(1,4):\n",
    "    okul_no=(input(\"Okul numarasini giriniz:\"))\n",
    "    isim= input(\"İsim giriniz:\")\n",
    "    soyisim= input(\"Soy isim giriniz:\")\n",
    "    telefon= input(\"Telefon numarasini giriniz:\")\n",
    "    dogum_tarihi= input(\"Dogum tarihi giriniz:\")\n",
    "    print(\"-------------------------------\")\n",
    "    ogrenciler[i]={\n",
    "        \"No\" : okul_no,\n",
    "        \"İsim\" : isim,\n",
    "        \"Soy isim\" : soyisim,\n",
    "        \"Telefon\" : telefon,\n",
    "        \"Dogum Tarihi\" : dogum_tarihi }\n",
    "\n",
    "print(ogrenciler)\n",
    "\n",
    "\n"
   ]
  },
  {
   "cell_type": "markdown",
   "metadata": {},
   "source": [
    "# Problem 2\n",
    "\n",
    "### a - Biraz ısınarak başlayalım!\n",
    "\n",
    "```\n",
    "numbers = [5,10,10,15,15,15,20,20,20,20]\n",
    "```\n",
    "\n",
    "Yukarıda `numbers` adında 10 elemanlı bir liste verilmiştir. Bu listenin her elemanını kontrol eden ve tekrar eden elemanları bir kez olacak şekilde başka bir listeye kopyalayan bir program yazınız. Son olarak oluşturduğunuz listeyi ekrana bastırınız.\n",
    "\n",
    "\n",
    "\n",
    "\n",
    "```\n",
    ">Output\n",
    "[5, 10, 15, 20]\n",
    "```\n"
   ]
  },
  {
   "cell_type": "code",
   "execution_count": 3,
   "metadata": {},
   "outputs": [
    {
     "name": "stdout",
     "output_type": "stream",
     "text": [
      "[5, 10, 15, 20]\n"
     ]
    }
   ],
   "source": [
    "numbers= [5,10,10,15,15,15,20,20,20,20]\n",
    "unique =[]\n",
    "for number in numbers:\n",
    "    if number in unique: #unique içinde o sayı varsa o sayıyı atla.\n",
    "        continue\n",
    "    else:\n",
    "        unique.append(number)\n",
    "print(unique)\n",
    "\n"
   ]
  },
  {
   "cell_type": "markdown",
   "metadata": {},
   "source": [
    "### 🌶️ b) Hadi işi biraz daha zorlaştıralım! \n",
    "\n",
    "\n",
    "Şimdiyse senden `numbers` isimli listedeki tekrar eden elemanları `repeatNumbers` adındaki listeye; tekrar etmeyen elemanları `uniqueNumbers`adındaki listeye kopyalayan yazmanı ve listeleri ekrana bastırmanı bekliyoruz\n",
    "\n",
    "```\n",
    ">Output\n",
    "Tekrar Eden Elemanlar: [10, 10, 15, 15, 15, 20, 20, 20, 20]\n",
    "Tekrar Etmeyen Elemanlar: [5]\n",
    "```"
   ]
  },
  {
   "cell_type": "code",
   "execution_count": 14,
   "metadata": {},
   "outputs": [
    {
     "name": "stdout",
     "output_type": "stream",
     "text": [
      "[5]\n",
      "[10, 10, 15, 15, 15, 20, 20, 20, 20]\n"
     ]
    }
   ],
   "source": [
    "numbers= [5,10,10,15,15,15,20,20,20,20]\n",
    "unique =[]\n",
    "repeat=[]\n",
    "for number in numbers:\n",
    "    if numbers.count(number) == 1:\n",
    "        unique.append(number)\n",
    "    else:\n",
    "        repeat.append(number)\n",
    "print(unique)\n",
    "print(repeat)"
   ]
  },
  {
   "cell_type": "markdown",
   "metadata": {},
   "source": [
    "# Problem 3\n",
    "sn1 = {1,2,3,4,5}\n",
    "\n",
    "sn2 = {4,5,6,7,8}\n",
    "\n",
    " Verilen 2 adet küme için kesişimlerini, farklarını ve birleşimlerini bulunuz. "
   ]
  },
  {
   "cell_type": "code",
   "execution_count": 16,
   "metadata": {},
   "outputs": [
    {
     "name": "stdout",
     "output_type": "stream",
     "text": [
      "Kesişimleri: {4, 5}\n",
      "Birleşimleri: {1, 2, 3, 4, 5, 6, 7, 8}\n"
     ]
    }
   ],
   "source": [
    "sn1={1,2,3,4,5}\n",
    "sn2={4,5,6,7,8}\n",
    "kesisim= sn1.intersection(sn2)\n",
    "birlesim= sn1.update(sn2) #update aynı elemanları eklemez.\n",
    "print(\"Kesişimleri:\",kesisim)\n",
    "print(\"Birleşimleri:\",sn1)\n"
   ]
  },
  {
   "cell_type": "markdown",
   "metadata": {},
   "source": [
    "# Problem 4\n",
    "\n",
    "Buradaki işlemlerimizin tamamı stringler içindir. Aşağıda verilecek olan metodlar için kendinizin örnek yaratması gerekmektedir. \n",
    "\n",
    "Örneğin `upper` için `string` değişkeni oluştururken` k = \"BAC\"` şeklinde oluşturmayınız. Bunun yerine k değişkenini `k = \"bac`\" şeklinde oluşturmanız `upper` metodundaki değişimi görebilmeniz için daha iyi olacaktır.\n",
    "\n",
    "Bütün metodlardaki değişimin gözle görülür şekilde değişimi beklenmektedir.\n",
    "\n",
    "\n",
    "1- capitalize(), lower(), upper(), swapcase(), title(), replace()\n",
    "\n",
    "2- endswith(), startswith(), find(), index(), count()\n",
    "\n",
    "3- split(), strip(), join(), islower(), isalpha(), isdigit()\n",
    "\n",
    "\n",
    "Yukarıdaki `string` metodlarındaki değişimleri görebildiğimiz bir program yazınız.\n"
   ]
  },
  {
   "cell_type": "code",
   "execution_count": 21,
   "metadata": {},
   "outputs": [
    {
     "name": "stdout",
     "output_type": "stream",
     "text": [
      "Yetgen ile python core egitim programi\n",
      "yetgen ile python core egitim programi\n",
      "YETGEN ILE PYTHON CORE EGITIM PROGRAMI\n",
      "yETGEN ILE pYTHON cORE eGITIM pROGRAMI\n",
      "Yetgen Ile Python Core Egitim Programi\n",
      "Yatgan ila Python Cora Egitim Programi\n",
      "True\n",
      "True\n",
      "28\n",
      "5\n",
      "4\n",
      "['Yetgen', 'ile', 'Python', 'Core', 'Egitim', 'Programi']\n",
      "Yetgen ile Python Core Egitim Programi\n",
      " : : : :Y:e:t:g:e:n: :i:l:e: :P:y:t:h:o:n: :C:o:r:e: :E:g:i:t:i:m: :P:r:o:g:r:a:m:i: : : : : : \n",
      "False\n",
      "False\n",
      "False\n"
     ]
    }
   ],
   "source": [
    "#1\n",
    "string=\"Yetgen ile Python Core Egitim Programi\"\n",
    "print(string.capitalize()) #stringin sadece ilk harfini büyük yap.\n",
    "print(string.lower())\n",
    "print(string.upper())\n",
    "print(string.swapcase())\n",
    "print(string.title()) #stringin her kelimesinin baş harfini büyük yap.\n",
    "print(string.replace(\"e\",\"a\"))\n",
    "#2\n",
    "print(string.endswith(\"mi\"))\n",
    "print(string.startswith(\"Ye\"))\n",
    "print(string.find(\"m\"))\n",
    "print(string.index(\"n\"))\n",
    "print(string.count(\"e\"))\n",
    "#3\n",
    "string2= \"    Yetgen ile Python Core Egitim Programi      \"\n",
    "print(string2.split())\n",
    "print(string2.strip())\n",
    "print(\":\".join(string2))\n",
    "print(string2.islower())\n",
    "print(string2.isalpha())\n",
    "print(string2.isdigit())\n",
    "\n"
   ]
  }
 ],
 "metadata": {
  "kernelspec": {
   "display_name": "Python 3.10.5 64-bit",
   "language": "python",
   "name": "python3"
  },
  "language_info": {
   "codemirror_mode": {
    "name": "ipython",
    "version": 3
   },
   "file_extension": ".py",
   "mimetype": "text/x-python",
   "name": "python",
   "nbconvert_exporter": "python",
   "pygments_lexer": "ipython3",
   "version": "3.11.1"
  },
  "orig_nbformat": 4,
  "vscode": {
   "interpreter": {
    "hash": "5026d2d6e7aaaaba093def813beadff083d8733e4a511af01735cbabd156995d"
   }
  }
 },
 "nbformat": 4,
 "nbformat_minor": 2
}
