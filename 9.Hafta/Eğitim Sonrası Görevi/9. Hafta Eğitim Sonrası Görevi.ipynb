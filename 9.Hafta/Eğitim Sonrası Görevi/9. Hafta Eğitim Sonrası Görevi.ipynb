{
 "cells": [
  {
   "attachments": {},
   "cell_type": "markdown",
   "metadata": {},
   "source": [
    "# Problem 1\n",
    "\n",
    "Kumanda isminde bir sınıf oluşturarak aşağıdaki işlemleri yapmasını sağlayan fonksiyonları sınıf içerisinde yazalım.\n",
    "1. Tv Aç\n",
    "2. Tv Kapat\n",
    "3. Ses Ayarları\n",
    "4. Kanal Ekle\n",
    "5. Kanal Sayısını Öğrenme\n",
    "6. Rastgele Kanala Geçme\n",
    "7. Televizyon Bilgileri\n",
    "\n",
    "\n",
    "Kumandayı kapatmak için q tuşuna basılmalı ve diğer durumlarda hangi işlemi yapmak istediği sorulmalıdır. Her işlemde gerekli fonksiyonunun sınıf içerisinden çağırılması gerekmektedir.\n",
    "\n",
    "random ve time kütüphanesini araştırarak kullanabilirsiniz.\n",
    "\n",
    "Kendi istediğiniz özellikleri eklemekte serbetsiniz."
   ]
  },
  {
   "cell_type": "code",
   "execution_count": null,
   "metadata": {},
   "outputs": [],
   "source": [
    "import time \n",
    "import random\n",
    "\n",
    "class kumanda():\n",
    "\n",
    "    def __init__(self, tv_durum= \"Kapalı\", tv_ses = 0, kanal_listesi = [\"Trt\"], kanal = \"Trt\"):\n",
    "        self.tv_durum = tv_durum\n",
    "        self.tv_ses = tv_ses\n",
    "        self.kanal_listesi = kanal_listesi\n",
    "        self.kanal = kanal\n",
    "\n",
    "    def tv_ac(self):\n",
    "\n",
    "        if (self.tv_durum == \"Açık\"):\n",
    "            print(\"Televizyon zaten açık...\")\n",
    "        else:\n",
    "            print(\"Televizyon açılıyor...\")\n",
    "            self.tv_durum = \"Açık\"\n",
    "    \n",
    "    def tv_kapat(self):\n",
    "        if (self.tv_durum == \"Kapalı\"):\n",
    "            print(\"Televizyon zaten kapalı...\")\n",
    "        else:\n",
    "            print(\"Televizyon kapanıyor...\")\n",
    "            self.tv_durum = \"Kapalı\"\n",
    "\n",
    "    def ses_ayarlari(self):\n",
    "\n",
    "        while True:\n",
    "\n",
    "            secenek = input(\"Sesi azalt: '<'\\nSesi arttır: '>'\\nÇıkış: çıkış\")\n",
    "\n",
    "            if (secenek ==\"<\"):\n",
    "                if (self.tv_ses != 0):\n",
    "                    self.tv_ses -= 1\n",
    "                    print(\"Ses:\",self.tv_ses)\n",
    "            \n",
    "            elif(secenek == \">\"):\n",
    "                if (self.tv_ses != 20):\n",
    "                    self.tv_ses += 1\n",
    "                    print(\"Ses:\",self.tv_ses)"
   ]
  }
 ],
 "metadata": {
  "kernelspec": {
   "display_name": "Python 3",
   "language": "python",
   "name": "python3"
  },
  "language_info": {
   "codemirror_mode": {
    "name": "ipython",
    "version": 3
   },
   "file_extension": ".py",
   "mimetype": "text/x-python",
   "name": "python",
   "nbconvert_exporter": "python",
   "pygments_lexer": "ipython3",
   "version": "3.11.1"
  },
  "orig_nbformat": 4,
  "vscode": {
   "interpreter": {
    "hash": "5026d2d6e7aaaaba093def813beadff083d8733e4a511af01735cbabd156995d"
   }
  }
 },
 "nbformat": 4,
 "nbformat_minor": 2
}
