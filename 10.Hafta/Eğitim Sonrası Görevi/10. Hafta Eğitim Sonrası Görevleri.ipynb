{
 "cells": [
  {
   "attachments": {},
   "cell_type": "markdown",
   "metadata": {},
   "source": [
    "# Problem 1 "
   ]
  },
  {
   "cell_type": "code",
   "execution_count": 27,
   "metadata": {},
   "outputs": [
    {
     "name": "stdout",
     "output_type": "stream",
     "text": [
      "[  2   5   8  45 923]\n"
     ]
    }
   ],
   "source": [
    "# 1 - numpy kütüphanesini import edin\n",
    "import numpy as np\n",
    "# 2 - 5 elemanlı bir numpy array oluşturun\n",
    "array1 = np.array([2,5,8,923,45])\n",
    "# 3 - Oluşturduğunuz arrayi küçükten büyüğe sıralayın.\n",
    "array1.sort()\n",
    "print(array1)\n"
   ]
  },
  {
   "attachments": {},
   "cell_type": "markdown",
   "metadata": {},
   "source": [
    "# Problem 2"
   ]
  },
  {
   "cell_type": "code",
   "execution_count": 12,
   "metadata": {},
   "outputs": [
    {
     "name": "stdout",
     "output_type": "stream",
     "text": [
      "[10 15 30 45 60]\n",
      "[ 5  6  7  8  9 10 11 12 13 14]\n",
      "[  5  10  15  20  25  30  35  40  45  50  55  60  65  70  75  80  85  90\n",
      "  95 100 105 110 115 120 125 130 135 140 145 150 155 160 165 170 175 180\n",
      " 185 190 195 200 205 210 215 220 225 230 235 240 245 250 255 260 265 270\n",
      " 275 280 285 290 295 300 305 310 315 320 325 330 335 340 345 350 355 360\n",
      " 365 370 375 380 385 390 395 400 405 410 415 420 425 430 435 440 445 450\n",
      " 455 460 465 470 475 480 485 490 495]\n",
      "[0. 0. 0. 0. 0. 0. 0. 0. 0. 0.]\n",
      "[1. 1. 1. 1. 1. 1. 1. 1. 1. 1.]\n",
      "[  0.  25.  50.  75. 100.]\n",
      "[18 25 18 12 17]\n",
      "[-0.77395795  0.68401584 -0.83809093 -0.37695888 -0.03366913  0.57549803\n",
      "  0.01371688  0.74023291  0.46984058 -0.98391205]\n",
      "[[12 25 29 22 22]\n",
      " [12 43 12 47 24]\n",
      " [38 22 43 17 37]]\n",
      "[110 138 157]\n",
      "[62 90 84 86 83]\n",
      "Matrisin en büyük değeri= 47\n",
      "Matrisin en küçük değeri= 12\n",
      "Matrisin ortalaması= 27.0\n",
      "8\n",
      "[12 15 16]\n",
      "[13 19 11 19 11 16 15 12]\n",
      "[12 25 29 22 22]\n",
      "12\n",
      "[12 12 38]\n",
      "[[ 144  625  841  484  484]\n",
      " [ 144 1849  144 2209  576]\n",
      " [1444  484 1849  289 1369]]\n",
      "[12 22 22 12 12 24 38 22]\n"
     ]
    }
   ],
   "source": [
    "# 1- (10,15,30,45,60) değerlerine sahip numpy dizisi oluşturunuz.\n",
    "import numpy as np\n",
    "numpy_dizisi = np.array([10,15,30,45,60])\n",
    "print(numpy_dizisi)\n",
    "\n",
    "# 2- (5-15) arasındaki sayılarla numpy dizisi oluşturunuz. \n",
    "\n",
    "numpy_dizisi1 = np.arange(5,15,1)    #Belirli bir aralıkta sayı oluşturmak istiyorsam arrange fonksiyonunu kullanırım.\n",
    "print(numpy_dizisi1)\n",
    "\n",
    "\n",
    "# 3- (50-100) arasında 5'er 5'er artarak numpy dizisi oluşturunuz.\n",
    "\n",
    "numpy_dizisi2 = np.arange(5,500,5)\n",
    "print(numpy_dizisi2)\n",
    "\n",
    "\n",
    "# 4- 10 elemanlı sıfırlardan oluşan bir dizi oluşturunuz.\n",
    "\n",
    "zeros_numpy = np.zeros(10)\n",
    "print(zeros_numpy)\n",
    "\n",
    "# 5- 10 elemanlı birlerden oluşan bir dizi oluşturunuz.\n",
    "ones_numpy = np.ones(10)\n",
    "print(ones_numpy)\n",
    "# 6- (0-100) arasında eşit aralıklı 5 sayı üretin.\n",
    "linspace_numpy = np.linspace(0,100,5)\n",
    "print(linspace_numpy)\n",
    "\n",
    "# 7- (10-30) arasında rastgele 5 tane tamsayı üretin.\n",
    "random = np.random.randint(10,30,5)\n",
    "print(random)\n",
    "\n",
    "# 8- [-1 ile 1] arasında 10 adet sayı üretin.\n",
    "sayilar = np.random.uniform(-1, 1, 10)\n",
    "print(sayilar)\n",
    "\n",
    "\n",
    "# 9- (3x5) boyutlarında (10-50) arasında rastgele bir matris oluşturunuz.\n",
    "\n",
    "matris = np.random.randint(10,50,(3,5))\n",
    "print(matris)\n",
    "\n",
    "\n",
    "# 10- Üretilen matrisin satır ve sütun sayıları toplamlarını hesaplayınız ?\n",
    "satir_toplam = np.sum(matris, axis=1)\n",
    "print(satir_toplam)\n",
    "sutun_toplam = np.sum(matris, axis=0)\n",
    "print(sutun_toplam)\n",
    "\n",
    "# 11- Üretilen matrisin en büyük, en küçük ve ortalaması nedir ?\n",
    "en_buyuk = np.max(matris)\n",
    "print(\"Matrisin en büyük değeri=\", en_buyuk)\n",
    "en_kucuk = np.min(matris)\n",
    "print(\"Matrisin en küçük değeri=\", en_kucuk)\n",
    "ortalama = np.mean(matris)\n",
    "print(\"Matrisin ortalaması=\", ortalama)\n",
    "\n",
    "# 12- Üretilen matrisin en büyük değerinin indeksi kaçtır ?\n",
    "index = np.argmax(matris)\n",
    "print(index)\n",
    "\n",
    "# 13- (10-20) arasındaki sayıları içeren dizinin ilk 3 elemanını seçiniz.\n",
    "numbers = np.random.randint(10,20,size=8)\n",
    "print(numbers[:3])\n",
    "\n",
    "# 14- Üretilen dizinin elemanlarını tersten yazdırın.\n",
    "print(numbers[::-1])\n",
    "\n",
    "# 15- Üretilen matrisin ilk satırını seçiniz.\n",
    "print(matris[0])\n",
    "\n",
    "# 16- Üretilen matrisin 2.satır 3.sütundaki elemanı hangisidir ?\n",
    "print(matris[1,2])\n",
    "\n",
    "# 17- Üretilen matrisin tüm satırlardaki ilk elemanı seçiniz.\n",
    "print(matris[:,0])\n",
    "\n",
    "# 18- Üretilen matrisin her bir elemanının karesini alınız.\n",
    "print(matris**2)\n",
    "\n",
    "# 19- Üretilen matris elemanlarının hangisi pozitif çift sayıdır ? Aralığı (-50,+50) arasında yapınız.\n",
    "matris1 = np.random.randint(-50,50, size=(3,5))\n",
    "print(matris[(matris > 0) & (matris % 2 == 0)])"
   ]
  }
 ],
 "metadata": {
  "kernelspec": {
   "display_name": "Python 3",
   "language": "python",
   "name": "python3"
  },
  "language_info": {
   "codemirror_mode": {
    "name": "ipython",
    "version": 3
   },
   "file_extension": ".py",
   "mimetype": "text/x-python",
   "name": "python",
   "nbconvert_exporter": "python",
   "pygments_lexer": "ipython3",
   "version": "3.11.1"
  },
  "orig_nbformat": 4,
  "vscode": {
   "interpreter": {
    "hash": "5026d2d6e7aaaaba093def813beadff083d8733e4a511af01735cbabd156995d"
   }
  }
 },
 "nbformat": 4,
 "nbformat_minor": 2
}
