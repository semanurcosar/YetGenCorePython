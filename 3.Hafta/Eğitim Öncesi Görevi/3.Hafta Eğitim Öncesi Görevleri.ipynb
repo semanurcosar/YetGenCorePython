{
  "cells": [
    {
      "cell_type": "markdown",
      "metadata": {
        "id": "tsD4YVAe_Te2"
      },
      "source": [
        "# Problem 1\n",
        "Bir sayının 7'ye bölünebilir olup olmadığını kontrol etmek \n",
        "için bir program yazın.\n",
        "\n",
        "İpucu: Mod operatörünü (%) kullanabilirsiniz."
      ]
    },
    {
      "cell_type": "code",
      "execution_count": 2,
      "metadata": {
        "id": "NGjvNwKx_Te7"
      },
      "outputs": [
        {
          "name": "stdout",
          "output_type": "stream",
          "text": [
            "False\n"
          ]
        }
      ],
      "source": [
        "x=int(input(\"Bir sayi giriniz:\"))\n",
        "print(x % 7 == 0)\n"
      ]
    },
    {
      "cell_type": "markdown",
      "metadata": {
        "id": "Kg3qiBAI_Te8"
      },
      "source": [
        "# Problem 2\n",
        "Kullanıcıdan vize ve final notu isteyin. Girilen vize notunun %40’ı ve \n",
        "girilen finalnotunun ise %60’ı alınarak yıl sonu not ortalaması hesaplanacaktır. \n",
        "\n",
        "Bu not ortalaması eğer 85 ve üzeri ise AA, \n",
        "\n",
        "75 ve 85 arasında ise BA, \n",
        "\n",
        "70 ve 75 arasında ise BB, \n",
        "\n",
        "65 ve 70 arasında ise CB,\n",
        "\n",
        "60 ve 65 arasında ise CC,\n",
        "\n",
        "55 ve 60 arasında ise DC,\n",
        "\n",
        "50 ve 55 arasında ise DD olarak hesaplanacaktır. \n",
        "\n",
        "Bu öğrencinin yıl sonu toplam notu 50’nin altında ise FF ile dersten kalacaktır. \n",
        "\n",
        "Ayrıca öğrencinin final notu 50’nin altında ise direkt FF ile kalacaktır."
      ]
    },
    {
      "cell_type": "code",
      "execution_count": 5,
      "metadata": {
        "id": "MXTtCxI1_Te8"
      },
      "outputs": [
        {
          "name": "stdout",
          "output_type": "stream",
          "text": [
            "FF\n",
            "Başarisiz\n"
          ]
        }
      ],
      "source": [
        "vize=int(input(\"Vize notunuzu giriniz:\"))\n",
        "final=int(input(\"Final notunuzu giriniz:\"))\n",
        "vizeorani=40/100\n",
        "finalorani=60/100\n",
        "vizenotu=vize*vizeorani\n",
        "finalnotu=final*finalorani\n",
        "notortalamasi=vizenotu+finalnotu\n",
        "if notortalamasi>=85:\n",
        "    print(\"AA\")\n",
        "elif notortalamasi > 75 and notortalamasi < 85:\n",
        "    print(\"BA\") \n",
        "elif notortalamasi > 70 and notortalamasi < 75:\n",
        "    print(\"BB\")\n",
        "elif notortalamasi > 65 and notortalamasi < 70:\n",
        "    print(\"CB\")\n",
        "elif notortalamasi > 60 and notortalamasi < 65:\n",
        "    print(\"CC\")  \n",
        "elif notortalamasi > 55 and notortalamasi < 60:\n",
        "    print(\"DC\")\n",
        "elif notortalamasi > 50 and notortalamasi < 55:\n",
        "    print(\"DD\")\n",
        "else :\n",
        "    print(\"FF\")\n",
        "    print(\"Başarisiz\")\n"
      ]
    },
    {
      "cell_type": "markdown",
      "metadata": {
        "id": "tAoRYCTC_Te8"
      },
      "source": [
        "# Problem 3\n",
        "İki YetGenli Zirve'de karşılaşıyorlar. Birbirlerini tanımak için sorular soruyorlar. Birbirlerine yaşlarını soruyorlar. Akıllarına bir Python programı yazıp, yaşlarını ve isimlerini giriyorlar. Büyük olanın yaşını ekrana yazdıran programı yazıyorlar. Sende bu iki YetGenli'ye destek olmak ister misin?\n",
        "\n",
        "```\n",
        "Birinci YetGenlinin ismi: Ahmet\n",
        "Birinci YetGenlinin yaşı : 20\n",
        "İkinci YetGenlinin ismi: Mehmet\n",
        "İkinci YetGenlinin yaşı : 25\n",
        "Mehmet'in yaşı daha büyük ve yaşı 25'tir.\n",
        "```"
      ]
    },
    {
      "cell_type": "code",
      "execution_count": 12,
      "metadata": {
        "id": "bPjE8W0i_Te8"
      },
      "outputs": [
        {
          "name": "stdout",
          "output_type": "stream",
          "text": [
            "Birinci YetGenlinin ismi: Selin\n",
            "Birinici YetGenlinin yasi: 22\n",
            "İkinci YetGenlinin ismi: Ali\n",
            "İkinci YetGenlinin yasi: 19\n",
            "Selin'in yasi daha büyük ve yasi 22'tir\n"
          ]
        }
      ],
      "source": [
        "Birinci_Yetgenlinin_ismi = input(\"Birinci Yetgenlinin ismini girniz:\")\n",
        "Birinci_Yetgenlinin_yasi = int(input(\"Birinci Yetgenlinin yasini giriniz:\"))\n",
        "İkinci_Yetgenlinin_ismi = input(\"İkinci Yetgenlinin ismini giriniz:\")\n",
        "İkinci_Yetgenlinin_yasi = int(input(\"İkinci Yetgenlinin yasini giriniz:\"))\n",
        "print(\"Birinci YetGenlinin ismi:\", Birinci_Yetgenlinin_ismi)\n",
        "print(\"Birinici YetGenlinin yasi:\", Birinci_Yetgenlinin_yasi)\n",
        "print(\"İkinci YetGenlinin ismi:\", İkinci_Yetgenlinin_ismi)\n",
        "print(\"İkinci YetGenlinin yasi:\", İkinci_Yetgenlinin_yasi) \n",
        "if Birinci_Yetgenlinin_yasi > İkinci_Yetgenlinin_yasi:\n",
        "    print(\"{}'in yasi daha büyük ve yasi {}'tir\".format(Birinci_Yetgenlinin_ismi , Birinci_Yetgenlinin_yasi))\n",
        "    if İkinci_Yetgenlinin_yasi > Birinci_Yetgenlinin_yasi:\n",
        "        print(\"{}'in yasi daha büyük ve yasi {}'tir\".format(İkinci_Yetgenlinin_ismi , İkinci_Yetgenlinin_yasi))\n",
        "\n"
      ]
    },
    {
      "cell_type": "markdown",
      "metadata": {
        "id": "zBVv8Tyg_Te9"
      },
      "source": [
        "# Problem 4\n",
        "Pandemi döneminde AVM'lerde ateş ölçümü yapılıyor. AVM'ye giren kişinin ateş ölçümü 37.5 derecenin altında ise girişe izin veriliyor. 37.5 derecenin üstünde ise girişe izin verilmiyor. AVM'ye girişe izin verilip verilmediğini ekrana yazdıran bir program yazın.\n",
        "\n",
        "Program sonunda şöyle bir çıktı elde etmelisiniz:\n",
        "\n",
        "```\n",
        "Ateşiniz 37.5 derece. AVM'ye girebilirsin! Maske takmayı unutma!\n",
        "Ateşiniz 37.6 derece. AVM'ye giremezsin! Hemen evine dön!\n",
        "```"
      ]
    },
    {
      "cell_type": "code",
      "execution_count": 21,
      "metadata": {
        "id": "TSAXs8et_Te9"
      },
      "outputs": [
        {
          "name": "stdout",
          "output_type": "stream",
          "text": [
            "Ateşiniz 37.0 derece. AVM'ye girebilirsin! Maske takmayi unutma!\n"
          ]
        }
      ],
      "source": [
        "ates_olcumu = float(input(\"Ateş ölçer sonucu:\"))\n",
        "\n",
        "if  ates_olcumu > 37.5:\n",
        "    print(\"Ateşiniz {} derece. AVM'ye giremezsin! Hemen evine dön!\".format(ates_olcumu))\n",
        "elif ates_olcumu < 37.5:\n",
        "    print(\"Ateşiniz {} derece. AVM'ye girebilirsin! Maske takmayi unutma!\".format(ates_olcumu))"
      ]
    },
    {
      "cell_type": "markdown",
      "metadata": {
        "id": "6AEkZrDt_Te9"
      },
      "source": [
        "# Problem 5\n",
        "YetGen bir spor kulübüyle sponsorluk anlaşması yapıyor. Kulüp, sponsorluk anlaşmasına göre her YetGen liderinin beden kitle indeksini hesaplamak istiyor. Spor kulübü, beden kitle indeksini hesaplamak için YetGen Jump Python liderlerinden Berkcan ve Ahmet'i arıyor. Berkcan ve Ahmet, kulübe yardımcı olmak için bir Python programı yazıyorlar. Sende bu iki YetGen liderine destek olmak ister misin?\n",
        "\n",
        "Kullanıcıdan alınan boy ve kilo değerlerine göre beden kitle indeksini hesaplayın ve şu kurallara göre ekrana şu yazıları yazdırın.\n",
        "\n",
        "\n",
        "Beden Kitle İndeksi, kişinin ağırlığının (kg olarak) boyunun karesine (m olarak) bölünmesiyle hesaplanır.\n",
        "\n",
        "\n",
        "```\n",
        " BKİ 18.5'un altındaysa -------> Zayıf\n",
        "\n",
        " BKİ 18.5 ile 25 arasındaysa ------> Normal\n",
        "\n",
        " BKİ 25 ile 30 arasındaysa --------> Fazla Kilolu\n",
        "\n",
        " BKİ 30'un üstündeyse -------------> Obez\n",
        "```\n",
        "\n"
      ]
    },
    {
      "cell_type": "code",
      "execution_count": 20,
      "metadata": {
        "id": "t-XPI_u0_Te-"
      },
      "outputs": [
        {
          "name": "stdout",
          "output_type": "stream",
          "text": [
            "Normal\n"
          ]
        }
      ],
      "source": [
        "boy = float(input(\"Boyu (m olarak) giriniz: \"))\n",
        "agirlik = float(input(\"Agirligi (kg olarak) giriniz:\"))\n",
        "Beden_Kitle_indeksi= agirlik/boy**2\n",
        "if Beden_Kitle_indeksi < 18.5:\n",
        "    print(\"Zayif\")\n",
        "elif Beden_Kitle_indeksi > 18.5 and Beden_Kitle_indeksi < 25:\n",
        "    print(\"Normal\")\n",
        "elif Beden_Kitle_indeksi > 25 and Beden_Kitle_indeksi < 30:\n",
        "    print(\"Fazla Kilolu\")\n",
        "else:\n",
        "    print(\"Obez\")\n",
        " "
      ]
    },
    {
      "cell_type": "markdown",
      "metadata": {
        "id": "oFsvQyaO_Te-"
      },
      "source": [
        "# Problem 6\n",
        "Kullanıcıdan isim, yaş ve eğitim bilgilerini isteyip ehliyet alabilme  durumunu kontrol ediniz. \n",
        "\n",
        "Ehliyet alma koşulu en az 18 yaşında ve eğitim durumu lise ya da üniversite olmalıdır. "
      ]
    },
    {
      "cell_type": "code",
      "execution_count": 23,
      "metadata": {
        "id": "Tu2mcgco_Te-"
      },
      "outputs": [
        {
          "name": "stdout",
          "output_type": "stream",
          "text": [
            "Merhaba Semanur Coşar. Ehliyet alabilirsiniz.\n"
          ]
        }
      ],
      "source": [
        "isim=input(\"isim giriniz:\")\n",
        "yas=int(input(\"yas giriniz:\"))\n",
        "egitim=input(\"egitim bilgisi giriniz:\")\n",
        "if yas >= 18 and egitim == \"üniversite\" :\n",
        "    print(\"Merhaba {}. Ehliyet alabilirsiniz.\".format(isim))\n",
        "elif yas >= 18 and egitim == \"lise\" :\n",
        "    print(\"Merhaba {}. Ehliyet alamazsiniz.\".format(isim))\n",
        "else:\n",
        "    print(\"Merhaba {}. Ehliyet alamazsiiniz.\".format(isim))"
      ]
    },
    {
      "cell_type": "markdown",
      "metadata": {
        "id": "eUkxVSAE_Te_"
      },
      "source": [
        "# Problem 7\n",
        "Bir yılın artık yıl olup olmadığını kontrol etmek için bir program yazın. \n",
        "Artık yıl kuralı:\n",
        "\n",
        "a) Eğer yılın son iki basamağı (00) ile bitmiyor ve yalnızca 4'e tam bölünüyorsa artık yıldır. Ya da, \n",
        "\n",
        "b) Eğer yıl 400'e tam bölünüyorsa artık yıldır.\n",
        "\n",
        "**Örneğin**\n",
        "```\n",
        "2017 artık yıl değildir.\n",
        "1900 artık yıl değildir\n",
        "2012 artık yıldır.\n",
        "2000 artık yıldır.\n",
        "```"
      ]
    },
    {
      "cell_type": "code",
      "execution_count": 24,
      "metadata": {
        "id": "4uWh8qUL_Te_"
      },
      "outputs": [
        {
          "name": "stdout",
          "output_type": "stream",
          "text": [
            "2000 artik yil degildir.\n"
          ]
        }
      ],
      "source": [
        "yil=int(input(\"yil giriniz.\"))\n",
        "if yil%400 == 0 and yil%4 == 0 and yil%100 != 0:\n",
        "    print(\"{} artik yildir.\".format(yil))\n",
        "else:\n",
        "    print(\"{} artik yil degildir.\".format(yil)) #yapamadım.\n"
      ]
    }
  ],
  "metadata": {
    "colab": {
      "provenance": []
    },
    "kernelspec": {
      "display_name": "Python 3.10.5 64-bit",
      "language": "python",
      "name": "python3"
    },
    "language_info": {
      "codemirror_mode": {
        "name": "ipython",
        "version": 3
      },
      "file_extension": ".py",
      "mimetype": "text/x-python",
      "name": "python",
      "nbconvert_exporter": "python",
      "pygments_lexer": "ipython3",
      "version": "3.11.1"
    },
    "orig_nbformat": 4,
    "vscode": {
      "interpreter": {
        "hash": "5026d2d6e7aaaaba093def813beadff083d8733e4a511af01735cbabd156995d"
      }
    }
  },
  "nbformat": 4,
  "nbformat_minor": 0
}
