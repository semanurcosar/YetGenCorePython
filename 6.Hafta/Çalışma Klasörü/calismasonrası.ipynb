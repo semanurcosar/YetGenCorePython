{
 "cells": [
  {
   "cell_type": "code",
   "execution_count": 1,
   "metadata": {},
   "outputs": [
    {
     "data": {
      "text/plain": [
       "[(3, 4), (10, 3), (5, 6), (1, 9)]"
      ]
     },
     "execution_count": 1,
     "metadata": {},
     "output_type": "execute_result"
    }
   ],
   "source": [
    "dikdörtgen_kenarlari = [(3,4),(10,3),(5,6),(1,9)] #normalde for i in dikdörtgenler diyerek elde edeceğimiz elemanları map ile yaparak zaman kazanıyoruz.\n",
    "list(map(lambda a: a , dikdörtgen_kenarlari))  #aşağıda for i ile nasıl yaptığımzı gösterdim."
   ]
  },
  {
   "cell_type": "code",
   "execution_count": 2,
   "metadata": {},
   "outputs": [
    {
     "name": "stdout",
     "output_type": "stream",
     "text": [
      "(3, 4)\n",
      "(10, 3)\n",
      "(5, 6)\n",
      "(1, 9)\n"
     ]
    }
   ],
   "source": [
    "for i in dikdörtgen_kenarlari:\n",
    "    print(i)"
   ]
  },
  {
   "cell_type": "code",
   "execution_count": 3,
   "metadata": {},
   "outputs": [
    {
     "data": {
      "text/plain": [
       "[12, 30, 30, 9]"
      ]
     },
     "execution_count": 3,
     "metadata": {},
     "output_type": "execute_result"
    }
   ],
   "source": [
    "dikdörtgen_kenarlari = [(3,4),(10,3),(5,6),(1,9)]\n",
    "list(map(lambda a: a[0]*a[1] , dikdörtgen_kenarlari)) #a[0]= 3,10,5,1 #a[1]= 4,3,6,9"
   ]
  }
 ],
 "metadata": {
  "kernelspec": {
   "display_name": "Python 3",
   "language": "python",
   "name": "python3"
  },
  "language_info": {
   "codemirror_mode": {
    "name": "ipython",
    "version": 3
   },
   "file_extension": ".py",
   "mimetype": "text/x-python",
   "name": "python",
   "nbconvert_exporter": "python",
   "pygments_lexer": "ipython3",
   "version": "3.11.1"
  },
  "orig_nbformat": 4
 },
 "nbformat": 4,
 "nbformat_minor": 2
}
